{
 "cells": [
  {
   "cell_type": "markdown",
   "metadata": {},
   "source": [
    "# Disciplina: Pesquisa Operacional\n",
    "Instituto Federal do Norte de Minas Gerais Campus Montes Claros <br/>\n",
    "Curso: Ciência da Computação <br/>\n",
    "Professora: Luciana Balieiro Cosme<br/>\n",
    "**Aula 7: Programação linear inteira - PLI** <br/>\n"
   ]
  },
  {
   "cell_type": "markdown",
   "metadata": {},
   "source": [
    "PLI são classes de problemas em que um ou mais variáveis são inteiras ou discretas, entretanto, os algoritmos podem nao ser consistentes na resolução de problemas com inteiro, muito embora seja teoricamente comprovado que esses algoritmos convergem em número finito de interações.\n",
    "\n",
    "O algoritmo branch-and-bound(B&B) é um dos mais eficiente em termos de cálculo e bem aceito comercialmente."
   ]
  },
  {
   "cell_type": "markdown",
   "metadata": {},
   "source": [
    "Considere o seguinte problema ilustrativo para PLI:\n",
    "\n",
    "max $5 x_{1} +  4 x_{2} $\n",
    "\n",
    "Sujeito às restrições:\n",
    "\n",
    "$x_{1} + x_{2} \\leq 5$\n",
    "\n",
    "$10x_{1} + 6x_{2} \\leq 45$\n",
    "\n",
    "$x_{1}, x_{2}$ não negativas e inteiras.\n",
    "\n"
   ]
  },
  {
   "cell_type": "code",
   "execution_count": 25,
   "metadata": {},
   "outputs": [
    {
     "data": {
      "image/png": "[encoded data removed]",
      "text/plain": [
       "<Figure size 432x288 with 1 Axes>"
      ]
     },
     "metadata": {},
     "output_type": "display_data"
    }
   ],
   "source": [
    "import matplotlib.pyplot as plt\n",
    "from matplotlib.patches import Polygon\n",
    "\n",
    "x1=[5, 0]\n",
    "x2=[0, 5]\n",
    "\n",
    "\n",
    "x3=[4.5, 0]\n",
    "x4=[0, 7.5]\n",
    "\n",
    "plt.figure()\n",
    "axes = plt.gca()\n",
    "plt.plot(x1, x2, 'g-', linewidth=2, markersize=1, label='restrição 1')\n",
    "plt.plot(x3,x4, 'r-',linewidth=2, markersize=1, label='restrição 2')\n",
    "plt.axis([0, 9, 0, 9])\n",
    "plt.legend()\n",
    "axes.add_patch(Polygon([(0, 0), (0, 5), (3.75, 1.25), (4.5, 0)],\n",
    "                      closed=True, facecolor='gray'))\n",
    "\n",
    "plt.text(4 , 1.25, \"PL x1=3.75, x2=1.25, z=23.75\",horizontalalignment='left', fontsize=12)\n",
    "plt.plot([3.75], [1.25], 'bo')\n",
    "\n",
    "plt.plot([1,2,3,2,3,1], [1,2,3,1,2,2], 'ro')\n",
    "\n",
    "plt.show()"
   ]
  },
  {
   "cell_type": "markdown",
   "metadata": {},
   "source": [
    "Temos a figura acima que representa o problema graficamente. A primeira restrição é a reta na cor verde, a segunda restricão é a reta na cor vermelha. O ponto na cor azul representa a solução ótima pela programação linear convencional e os pontos na cor vermelha representa alguns pontos (factíveis e não factíveis) que são inteiros e, por isso, os pontos factíveis são candidatos a solução ótima inteira.\n",
    "\n",
    "Como a solução PL não satisfaz os requisitos inteiros, utilizaremos o algoritmo B&B para identificar a solução inteira ótima. O primeiro passo do processo consiste em selecionar uma variável arbitariamente, que seja solução no problema original, e modificá-la de forma a termos duas regiões. Como $x_1=3.75$, sabemos que não há nenhuma solução possível acima de 3 e menor que 4. Portanto, podemos reformular o problema da seguinte maneira:"
   ]
  },
  {
   "cell_type": "markdown",
   "metadata": {},
   "source": [
    "**Problema 1**\n",
    "\n",
    "max $5 x_{1} +  4 x_{2} $\n",
    "\n",
    "Sujeito às restrições:\n",
    "\n",
    "$x_{1} + x_{2} \\leq 5$\n",
    "\n",
    "$10x_{1} + 6x_{2} \\leq 45$\n",
    "\n",
    "$x_{1} \\leq 3$\n",
    "\n",
    "$x_{1}, x_{2} \\geq 0$\n",
    "\n",
    "**Problema 2**\n",
    "\n",
    "max $5 x_{1} +  4 x_{2} $\n",
    "\n",
    "Sujeito às restrições:\n",
    "\n",
    "$x_{1} + x_{2} \\leq 5$\n",
    "\n",
    "$10x_{1} + 6x_{2} \\leq 45$\n",
    "\n",
    "$x_{1} \\geq 4$\n",
    "\n",
    "$x_{1}, x_{2} \\geq 0$\n",
    "\n"
   ]
  },
  {
   "cell_type": "markdown",
   "metadata": {},
   "source": [
    "Do ponto de vista da programação linear inteira, com os espaços combinados nenhuma solução foi perdida, o que torna essa nova abordagem equivalente. Se usarmos essa técnica sucessivamente para eliminar regiões que não são viáveis inteiras, encontraremos a solucão ótima. As novas restrições são mutuamente exclusivas e essa dicotomização dá origem ao conceito de ramificação no B&B, e nesse caso, $x_1$ é chamada de **variável de ramificação**.\n",
    " \n",
    "A **solução PL do problema 1**, que pode ser resolvida como de costume, é $x_1=3$, $x_2=2$, $z=23$.\n",
    "\n",
    "A solução do problema 1 atende aos requisitos inteiros para $x_1$ e $x_2$, portanto, ela é uma solução candidata. Podemos então afirmar que a  solução do problema 1 é um limite inferior. Já a **solução do problema 2** será útil apenas se for maior que $z=23$. Como já sabemos que a solução contínua é $z=23.75$,  é possível descartar o segundo problema pois ele não poderá oferecer um valor maior que $23$ e menor que $23.75$.\n",
    "\n",
    "Mesmo assim, iremos examinar o segundo modelo.\n",
    "\n",
    "A **solução PL do problema 2**, que pode ser resolvida como de costume, é $x_1=4$, $x_2=0.83$, $z=23.33$. Como não encontramos uma solução inteira, vamos repetir o processo e separar o problema original em duas partes. Como $x_1$ é inteiro, redefiniremos $x_2$, considerando que $x_{1} \\geq 4$, relativo ao problema 2.\n",
    "\n",
    "**Problema 3**\n",
    "\n",
    "max $5 x_{1} +  4 x_{2} $\n",
    "\n",
    "Sujeito às restrições:\n",
    "\n",
    "$x_{1} + x_{2} \\leq 5$\n",
    "\n",
    "$10x_{1} + 6x_{2} \\leq 45$\n",
    "\n",
    "$x_{1} \\geq 4$\n",
    "\n",
    "$x_{2} \\leq 0$\n",
    "\n",
    "$x_{1}, x_{2} \\geq 0$\n",
    "\n",
    "**Problema 4**\n",
    "\n",
    "max $5 x_{1} +  4 x_{2} $\n",
    "\n",
    "Sujeito às restrições:\n",
    "\n",
    "$x_{1} + x_{2} \\leq 5$\n",
    "\n",
    "$10x_{1} + 6x_{2} \\leq 45$\n",
    "\n",
    "$x_{1} \\geq 4$\n",
    "\n",
    "$x_{2} \\geq 1$\n",
    "\n",
    "$x_{1}, x_{2} \\geq 0$\n",
    "\n",
    "Temos que, a **solução PL do problema 3** é  $x_1=4.5$, $x_2=0$, $z=22.5$.  Já a **solução PL do problema 4** não é possível.\n",
    "\n",
    "\n",
    "Repetindo o processo:\n",
    "\n",
    "**Problema 5**\n",
    "\n",
    "max $5 x_{1} +  4 x_{2} $\n",
    "\n",
    "Sujeito às restrições:\n",
    "\n",
    "$x_{1} + x_{2} \\leq 5$\n",
    "\n",
    "$10x_{1} + 6x_{2} \\leq 45$\n",
    "\n",
    "$x_{2} \\leq 0$\n",
    "\n",
    "$x_{1} \\geq 4$\n",
    "\n",
    "$x_{1} \\leq 4$\n",
    "\n",
    "$x_{1}, x_{2} \\geq 0$\n",
    "\n",
    "**Problema 6**\n",
    "\n",
    "max $5 x_{1} +  4 x_{2} $\n",
    "\n",
    "Sujeito às restrições:\n",
    "\n",
    "$x_{1} + x_{2} \\leq 5$\n",
    "\n",
    "$10x_{1} + 6x_{2} \\leq 45$\n",
    "\n",
    "$x_{2} \\leq 0$\n",
    "\n",
    "$x_{1} \\geq 4$\n",
    "\n",
    "$x_{1} \\geq 5$\n",
    "\n",
    "$x_{1}, x_{2} \\geq 0$\n",
    "\n",
    "\n",
    "Temos que, a **solução PL do problema 5** é  $x_1=4$, $x_2=0$, $z=20$, inferior ao problema 1.  A **solução PL do problema 6** não é possível. Portanto, a solução de PLI é $z=23$, encontrado no problema 1.\n"
   ]
  },
  {
   "cell_type": "markdown",
   "metadata": {},
   "source": [
    "**Responda**:\n",
    "\n",
    "1 - Qual seria o resultado se a primeira variável de ramificação fosse $x_2$?\n",
    "\n",
    "2 - Se no exemplo acima selecionarmos o problema 2 em primeiro lugar, qual seria a implicação para a solução do problema?"
   ]
  },
  {
   "cell_type": "markdown",
   "metadata": {},
   "source": [
    "Bibliografia:\n",
    "    \n",
    "    TAHA, Hamdy A. Pesquisa Operacional. 8a edição. Pearson, 2008.\n",
    "    \n",
    "    MOREIRA, Daniel A. Pesquisa Operacional. 2a edição revista e atualizada. Cengage Learning, 2010."
   ]
  }
 ],
 "metadata": {
  "kernelspec": {
   "display_name": "Python 3",
   "language": "python",
   "name": "python3"
  },
  "language_info": {
   "codemirror_mode": {
    "name": "ipython",
    "version": 3
   },
   "file_extension": ".py",
   "mimetype": "text/x-python",
   "name": "python",
   "nbconvert_exporter": "python",
   "pygments_lexer": "ipython3",
   "version": "3.6.5"
  }
 },
 "nbformat": 4,
 "nbformat_minor": 2
}
