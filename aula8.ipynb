{
 "cells": [
  {
   "cell_type": "markdown",
   "metadata": {},
   "source": [
    "# Disciplina: Pesquisa Operacional\n",
    "Instituto Federal do Norte de Minas Gerais Campus Montes Claros <br/>\n",
    "Curso: Ciência da Computação <br/>\n",
    "Professora: Luciana Balieiro Cosme<br/>\n",
    "**Aula 8: Problema do Caixeiro Viajante (Traveling Salesman Problem - TSP)** <br/>"
   ]
  },
  {
   "cell_type": "markdown",
   "metadata": {},
   "source": [
    "O problema do caixeiro viajante trata de encontrar o caminho (circuito fechado) mais curto entre $n$ cidades, na qual cada cidade é visitamente uma única vez. A especificação é dada, conforme a seguir:\n",
    "\n",
    "$x_{ij}$ = 1, se a cidade $j$ é alcançada a partir da cidade $i$; e 0, caso contrário.\n",
    "\n",
    "Considere que $d_{ij}$ é a distância da cidade $i$ à cidade $j$, o problema é formulado da seguinte forma:\n",
    "\n",
    "Minimizar $\\sum_{i=1}^n \\sum_{j=1}^n d_{ij} x_{ij}$,\n",
    "\n",
    "sendo que $d_{ij} = \\infty $ para todo $i=j$,\n",
    "\n",
    "sujeito a\n",
    "\n",
    "$\\sum_{i=1}^n x_{ij}=1$, $j=1,2,...,n$\n",
    "\n",
    "$\\sum_{j=1}^n x_{ij}=1$, $i=1,2,...,n$\n",
    "\n",
    "$x_{ij} = (0,1)$"
   ]
  },
  {
   "cell_type": "markdown",
   "metadata": {},
   "source": [
    "**Exemplo: ** Cinco amigos de infância combinaram de se encontrarem toda quinta-feira na casa de um deles. Hoje, eles precisam escolher quem vai dirigir, que será o primeiro a sair, e quem ofereçará o jantar, o último a ser escolhido, e qual o menor caminho entre eles, já que apenas irão em apenas um carro. As distâncias, em quilômetros, entre eles \n",
    "é a seguinte:\n",
    "\n",
    "\n",
    "|                       |  Bê         | Gi            | Bia | Jota | Zé  |\n",
    "|-----------------------|-------------|---------------|-----|------|----|\n",
    "| Bê                    | 0           | 12            | 22  | 15   | 210|\n",
    "| Gi                    | 12          | 0             | 8  | 11    |13  |\n",
    "| Bia                   | 22          | 8             | 0  | 16    |18,5|\n",
    "| Jota                  | 15          | 11            | 16 | 0     |19  |\n",
    "| Zé                    | 21          | 13            |18,5| 19    |0 |\n",
    "\n",
    "Escolha o primeiro a sair, que será o motorista, e determine o menor caminho entre os amigos."
   ]
  },
  {
   "cell_type": "markdown",
   "metadata": {},
   "source": [
    "Então, podemos representar o problema, na forma apresentada acima:\n",
    "\n",
    "Minimizar $\\sum_{i=1}^n \\sum_{j=1}^n d_{ij} x_{ij}$,\n",
    "\n",
    "sujeito a\n",
    "\n",
    "$\\sum_{j=1}^n x_{ij}=1$, $i=1,2,...,n$\n",
    "\n",
    "$\\sum_{i=1}^n x_{ij}=1$, $j=1,2,...,n$\n",
    "\n",
    "$x_{ij} = (0,1)$\n",
    "\n",
    "que significa, de forma semelhante ao problema de designação:\n",
    "\n",
    "Minimizar $ 0x_{11} + 12x_{12} + 22 x_{13} + 15 x_{14} + 210 x_{15} +$\n",
    "\n",
    "$12 x_{21}+ 0 x_{22} + 8 x_{23} + 11 x_{24} + 13x_{25} +$\n",
    "\n",
    "$22x_{31} + 8 x_{32} + 0x_{33} + 16x_{34} + 18,5x_{35}+$\n",
    "\n",
    "$15x_{41} + 11 x_{42} + 16x_{43} + 0 x_{44} + 19 x_{45} +$\n",
    "\n",
    "$21 x_{51} + 13 x_{52} + 18,5x_{53} + 19 x_{54} + 0 x_{55}$\n",
    "\n",
    "\n",
    "Restrição 1: $i=1$\n",
    "\n",
    "$x_{11} + x_{12} + x_{13} + x_{14} +  x_{15} =1$\n",
    "\n",
    "$i=2,3,4,5$\n",
    "\n",
    "Restrição 2: $j=1$\n",
    "\n",
    "$x_{11} + x_{21} + x_{31} + x_{41} +  x_{51} =1$\n",
    "\n",
    "$i=2,3,4,5$\n",
    "\n",
    "$x_{ij} = (0,1)$\n",
    "\n",
    "Assim, nesse formato, é possível resolver como um problema de designação, utilizando o  algoritmo branch-and-bound, por exemplo. Entretanto, há ainda outros algoritmos determínisticos e heurísticas, sendo um campo aberto para novos estudos.\n",
    "\n",
    "**Heurística do vizinho mais próximo: **\n",
    "\n",
    "Uma solução 'boa' do problema de TSP pode ser encontrada começando com qualquer elemento (pessoa, nesse caso, e também chamado de nó), e depois, conectando-se com a mais próxima. O processo continua até ser formado um circuito. \n",
    "\n",
    "Resolvendo o nosso problema de viagem compartilhada, podemos resolver escolher Bê ($i=1$), como o motorista e primeiro a sair para a viagem, buscando os demais.\n",
    "\n",
    "*Etapas das heurísticas:*\n",
    "\n",
    "1. Comece por Bê ($i=1$). escolha a pessoa próxima de Bê.\n",
    "\n",
    "2. Escolha Gi ($j=2$), por ser a pessoa próxima de Bê ($d_{1j} = min[\\infty, 12, 22, 15, 210]$.)\n",
    "\n",
    "3. Escolha Bia ($j=3$), após Gi,  ($d_{2j} = min[12, \\infty, 8, 11, 13]$.)\n",
    "\n",
    "4. Escolha Jota ($j=4$), após Bia, pois apesar de Gi ter a menor distância, ela já foi visitada  ($d_{3j} = min[\\infty, \\infty, \\infty, 16, 18,5]$.)\n",
    "\n",
    "4. Escolha Zé, a última pessoa a ser visitada.\n",
    "\n",
    "Soma-se as distâncias percorridas: (z= 12+8+16+19+21 = 76). A volta de casa para cada um será desconsiderada, pois, como o problema é simétrico, a volta é a mesma distância da ida, e assim não influencia na decisão do menor caminho. Nesse caso, incluiremos somente a volta do motorista.\n",
    "\n",
    "*A solução encontrada é a solucão ótima? Se comerçaramos por Bia, qual seria o resultado?*\n",
    "\n",
    "*Resolva também o problema por meio do algoritmo  branch-and-bound.*"
   ]
  },
  {
   "cell_type": "markdown",
   "metadata": {},
   "source": [
    "Bibliografia:\n",
    "    \n",
    "    TAHA, Hamdy A. Pesquisa Operacional. 8a edição. Pearson, 2008.\n",
    "    \n",
    "    MOREIRA, Daniel A. Pesquisa Operacional. 2a edição revista e atualizada. Cengage Learning, 2010."
   ]
  }
 ],
 "metadata": {
  "kernelspec": {
   "display_name": "Python 3",
   "language": "python",
   "name": "python3"
  },
  "language_info": {
   "codemirror_mode": {
    "name": "ipython",
    "version": 3
   },
   "file_extension": ".py",
   "mimetype": "text/x-python",
   "name": "python",
   "nbconvert_exporter": "python",
   "pygments_lexer": "ipython3",
   "version": "3.6.5"
  }
 },
 "nbformat": 4,
 "nbformat_minor": 2
}
