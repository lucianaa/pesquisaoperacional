{
 "cells": [
  {
   "cell_type": "markdown",
   "metadata": {},
   "source": [
    "# Disciplina: Pesquisa Operacional\n",
    "Instituto Federal do Norte de Minas Gerais Campus Montes Claros <br/>\n",
    "Curso: Ciência da Computação <br/>\n",
    "Professora: Luciana Balieiro Cosme<br/>\n",
    "**Aula 4: Método Simplex de duas fases** <br/>"
   ]
  },
  {
   "cell_type": "markdown",
   "metadata": {},
   "source": [
    "Considerando os casos especiais em que as restrições  $geq$, as restrições  $=$ e a minimização da função objetivo, o método Simplex de duas fases pode ser utilizado. Considere o modelo abaixo:\n",
    "\n",
    "max $x_1+3x_2$\n",
    "\n",
    "s.a\n",
    "\n",
    "$3x_1 -2x_2 \\geq 10$\n",
    "\n",
    "$2x_1 +3x_2 = 34$\n",
    "\n",
    "$4x_1 + 12x_2 \\leq 104$\n",
    "\n",
    "$x_1, x_2 \\geq 0$\n",
    "\n",
    "Primeiro passo, é transformar o modelo acima, de forma que o método Simplex possa solucioná-lo.\n",
    "\n",
    "1. Uma restrição $\\geq$ necessita de uma variável artificial e uma de folga.\n",
    "2. Uma restrição $=$ necessita de uma variável artificial.\n",
    "3. Uma restrição $\\leq$ necessita de uma variável artificial.\n",
    "\n",
    "Portanto, temos:\n",
    "\n",
    "max $x_1+3x_2 + 0s_1 + 0s_2 - Ma_1$\n",
    "\n",
    "s.a\n",
    "\n",
    "$3x_1 -2x_2 -s_1 + a_1  = 10$\n",
    "\n",
    "$2x_1 +3x_2 + a_2 = 34$\n",
    "\n",
    "$4x_1 + 12x_2 + s_2 =  104$\n",
    "\n",
    "$x_1, x_2, a_1, a_2, s_1, s_2 \\geq 0$\n",
    "\n",
    "Devemos inserir as variáveis artificiais na função objetivo com o coeficiente -M, maior que outro que possa aparecer, sendo um número positivo suposto a ser muito grande. Se for um problema de minimização a variável coeficiente será +M.\n",
    "\n",
    "**Fase I:**\n",
    "\n",
    "1. Expresse o problema na forma de equações com as variáveis de folga e artificiais para garantir uma solução básica inicial. \n",
    "2. Ache uma solução básica que minimizará a soma das variáveis artificiais (tanto no caso de maximizar, quanto minimizar.\n",
    "3. Se o valor mínimo da soma for positivo, o problema não tem nenhuma solução viável, caso contrário passe para a **Fase 2**.\n",
    "\n",
    "Usando o modelo, temos:\n",
    "\n",
    "min $M_1 + M_2$\n",
    "\n",
    "s.a\n",
    "\n",
    "$3x_1 -2x_2 -s_1 + a_1  = 10$\n",
    "\n",
    "$2x_1 +3x_2 + a_2 = 34$\n",
    "\n",
    "$4x_1 + 12x_2 + s_2 =  104$\n",
    "\n",
    "$x_1, x_2, a_1, a_2, s_1, s_2 \\geq 0$\n",
    "\n",
    "A tabela associada é\n",
    "\n",
    "| $c_j$ |$x_1$| $x_2$| $a_1$| $a_2$| $s_1$| $s_2$ |\n",
    "| --- | --- | --- | --- | --- | --- | --- |\n",
    "| Stretched | Gaussian | .843 | Stretched | Gaussian | .843 | |"
   ]
  },
  {
   "cell_type": "markdown",
   "metadata": {},
   "source": [
    "### Results\n",
    "\n"
   ]
  },
  {
   "cell_type": "code",
   "execution_count": null,
   "metadata": {},
   "outputs": [],
   "source": []
  }
 ],
 "metadata": {
  "kernelspec": {
   "display_name": "Python 3",
   "language": "python",
   "name": "python3"
  },
  "language_info": {
   "codemirror_mode": {
    "name": "ipython",
    "version": 3
   },
   "file_extension": ".py",
   "mimetype": "text/x-python",
   "name": "python",
   "nbconvert_exporter": "python",
   "pygments_lexer": "ipython3",
   "version": "3.6.5"
  }
 },
 "nbformat": 4,
 "nbformat_minor": 2
}
